{
 "cells": [
  {
   "cell_type": "code",
   "execution_count": 39,
   "metadata": {},
   "outputs": [],
   "source": [
    "import pandas as pd"
   ]
  },
  {
   "cell_type": "code",
   "execution_count": 40,
   "metadata": {},
   "outputs": [],
   "source": [
    "# 1. Create a DataFrame for the 201908-citibike-tripdata data. \n",
    "citi_bike = pd.read_csv(\"201908-citibike-tripdata.csv\")\n"
   ]
  },
  {
   "cell_type": "code",
   "execution_count": 41,
   "metadata": {},
   "outputs": [
    {
     "name": "stdout",
     "output_type": "stream",
     "text": [
      "<class 'pandas.core.frame.DataFrame'>\n",
      "RangeIndex: 2344224 entries, 0 to 2344223\n",
      "Data columns (total 15 columns):\n",
      " #   Column                   Dtype  \n",
      "---  ------                   -----  \n",
      " 0   tripduration             int64  \n",
      " 1   starttime                object \n",
      " 2   stoptime                 object \n",
      " 3   start station id         float64\n",
      " 4   start station name       object \n",
      " 5   start station latitude   float64\n",
      " 6   start station longitude  float64\n",
      " 7   end station id           float64\n",
      " 8   end station name         object \n",
      " 9   end station latitude     float64\n",
      " 10  end station longitude    float64\n",
      " 11  bikeid                   int64  \n",
      " 12  usertype                 object \n",
      " 13  birth year               int64  \n",
      " 14  gender                   int64  \n",
      "dtypes: float64(6), int64(4), object(5)\n",
      "memory usage: 268.3+ MB\n",
      "None\n"
     ]
    }
   ],
   "source": [
    "# 2. Check the datatypes of your columns. \n",
    "print(citi_bike.info())"
   ]
  },
  {
   "cell_type": "code",
   "execution_count": 42,
   "metadata": {},
   "outputs": [],
   "source": [
    "# 3. Convert the 'tripduration' column to datetime datatype.\n",
    "citi_bike['tripduration'] = pd.to_datetime(citi_bike['tripduration'], unit='s')"
   ]
  },
  {
   "cell_type": "code",
   "execution_count": 43,
   "metadata": {},
   "outputs": [
    {
     "name": "stdout",
     "output_type": "stream",
     "text": [
      "<class 'pandas.core.frame.DataFrame'>\n",
      "RangeIndex: 2344224 entries, 0 to 2344223\n",
      "Data columns (total 15 columns):\n",
      " #   Column                   Dtype         \n",
      "---  ------                   -----         \n",
      " 0   tripduration             datetime64[ns]\n",
      " 1   starttime                object        \n",
      " 2   stoptime                 object        \n",
      " 3   start station id         float64       \n",
      " 4   start station name       object        \n",
      " 5   start station latitude   float64       \n",
      " 6   start station longitude  float64       \n",
      " 7   end station id           float64       \n",
      " 8   end station name         object        \n",
      " 9   end station latitude     float64       \n",
      " 10  end station longitude    float64       \n",
      " 11  bikeid                   int64         \n",
      " 12  usertype                 object        \n",
      " 13  birth year               int64         \n",
      " 14  gender                   int64         \n",
      "dtypes: datetime64[ns](1), float64(6), int64(3), object(5)\n",
      "memory usage: 268.3+ MB\n",
      "None\n"
     ]
    }
   ],
   "source": [
    "# 4. Check the datatypes of your columns. \n",
    "print(citi_bike.info())"
   ]
  },
  {
   "cell_type": "code",
   "execution_count": 44,
   "metadata": {},
   "outputs": [],
   "source": [
    "# 5. Export the Dataframe as a new CSV file without the index.\n",
    "citi_bike.to_csv('C:/Users/kathy/Documents/Data_Analytics/Module_14/bikesharing/new-201908-citibike-tripdata.csv', index=False)"
   ]
  },
  {
   "cell_type": "code",
   "execution_count": 45,
   "metadata": {},
   "outputs": [
    {
     "name": "stdout",
     "output_type": "stream",
     "text": [
      "         tripduration                 starttime                  stoptime  \\\n",
      "0 1970-01-01 00:06:33  2019-08-01 00:00:01.4680  2019-08-01 00:06:35.3780   \n",
      "1 1970-01-01 00:10:27  2019-08-01 00:00:01.9290  2019-08-01 00:10:29.7840   \n",
      "2 1970-01-01 00:18:52  2019-08-01 00:00:04.0480  2019-08-01 00:18:56.1650   \n",
      "3 1970-01-01 00:29:40  2019-08-01 00:00:04.1630  2019-08-01 00:29:44.7940   \n",
      "4 1970-01-01 00:25:17  2019-08-01 00:00:05.4580  2019-08-01 00:25:23.4550   \n",
      "\n",
      "   start station id              start station name  start station latitude  \\\n",
      "0             531.0          Forsyth St & Broome St               40.718939   \n",
      "1             274.0  Lafayette Ave & Fort Greene Pl               40.686919   \n",
      "2            2000.0        Front St & Washington St               40.702551   \n",
      "3             479.0                 9 Ave & W 45 St               40.760193   \n",
      "4            3312.0                 1 Ave & E 94 St               40.781721   \n",
      "\n",
      "   start station longitude  end station id            end station name  \\\n",
      "0               -73.992663           408.0       Market St & Cherry St   \n",
      "1               -73.976682          3409.0        Bergen St & Smith St   \n",
      "2               -73.989402          3388.0     President St & Henry St   \n",
      "3               -73.991255           473.0  Rivington St & Chrystie St   \n",
      "4               -73.945940          3312.0             1 Ave & E 94 St   \n",
      "\n",
      "   end station latitude  end station longitude  bikeid    usertype  \\\n",
      "0             40.710762             -73.994004   35305  Subscriber   \n",
      "1             40.686744             -73.990632   38822  Subscriber   \n",
      "2             40.682800             -73.999904   18373  Subscriber   \n",
      "3             40.721101             -73.991925   25002  Subscriber   \n",
      "4             40.781721             -73.945940   31198  Subscriber   \n",
      "\n",
      "   birth year  gender  \n",
      "0        1996       2  \n",
      "1        1998       2  \n",
      "2        1988       1  \n",
      "3        1988       1  \n",
      "4        1965       2  \n"
     ]
    }
   ],
   "source": [
    "print(citi_bike.head())\n"
   ]
  }
 ],
 "metadata": {
  "kernelspec": {
   "display_name": "PythonData",
   "language": "python",
   "name": "pythondata"
  },
  "language_info": {
   "codemirror_mode": {
    "name": "ipython",
    "version": 3
   },
   "file_extension": ".py",
   "mimetype": "text/x-python",
   "name": "python",
   "nbconvert_exporter": "python",
   "pygments_lexer": "ipython3",
   "version": "3.7.13"
  }
 },
 "nbformat": 4,
 "nbformat_minor": 4
}
